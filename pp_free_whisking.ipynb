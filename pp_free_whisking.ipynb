{
 "cells": [
  {
   "cell_type": "markdown",
   "metadata": {
    "id": "8GefxTt4Zrmg"
   },
   "source": [
    "# Miniproject - Neuroscience: cellular and circuit mechanisms (BIO-482)\n",
    "\n",
    "- This notebook contains the part 4 of the miniproject - the personal project.\n",
    "\n",
    "#### Importing libraries"
   ]
  },
  {
   "cell_type": "code",
   "execution_count": 28,
   "metadata": {
    "colab": {
     "base_uri": "https://localhost:8080/"
    },
    "id": "bgSHGo8yD27T",
    "outputId": "c4a4062a-37c3-4208-ef19-0a1108272ac2",
    "tags": []
   },
   "outputs": [],
   "source": [
    "import os\n",
    "import sys\n",
    "import numpy as np\n",
    "import pandas as pd\n",
    "from sklearn.linear_model import LinearRegression \n",
    "from sklearn.model_selection import train_test_split\n",
    "from sklearn.linear_model import LogisticRegression\n",
    "from sklearn.ensemble import RandomForestClassifier\n",
    "from sklearn.neighbors import KNeighborsClassifier\n",
    "from sklearn.svm import SVC\n",
    "from sklearn.metrics import accuracy_score, classification_report, roc_auc_score, roc_curve, confusion_matrix\n",
    "import scipy.stats\n",
    "import matplotlib.pyplot as plt\n",
    "import seaborn as sns"
   ]
  },
  {
   "cell_type": "markdown",
   "metadata": {},
   "source": [
    "#### Importing helper functions\n",
    " Feel free to check out what these functions do in the corresponding files, `helpers.py` or `utils.py`. \n",
    " - `helpers.py` contains functions to analyze membrane potential recording data\n",
    " - `utils.py` contains functions useful for other things e.g. plotting"
   ]
  },
  {
   "cell_type": "code",
   "execution_count": 2,
   "metadata": {
    "tags": []
   },
   "outputs": [],
   "source": [
    "base_path = os.getcwd()\n",
    "base_path = base_path.replace('notebooks', 'scripts') # note: if you have notebooks twice in your base_path, this won't work\n",
    "sys.path.insert(1, base_path)\n",
    "\n",
    "from helpers import *\n",
    "from utils import remove_top_right_frame, jitter_scatterplot"
   ]
  },
  {
   "cell_type": "markdown",
   "metadata": {},
   "source": [
    "# Load and preprocess the data\n",
    "Load previously saved dataframe as `.csv` file:"
   ]
  },
  {
   "cell_type": "code",
   "execution_count": 3,
   "metadata": {
    "tags": []
   },
   "outputs": [
    {
     "data": {
      "text/html": [
       "<div>\n",
       "<style scoped>\n",
       "    .dataframe tbody tr th:only-of-type {\n",
       "        vertical-align: middle;\n",
       "    }\n",
       "\n",
       "    .dataframe tbody tr th {\n",
       "        vertical-align: top;\n",
       "    }\n",
       "\n",
       "    .dataframe thead th {\n",
       "        text-align: right;\n",
       "    }\n",
       "</style>\n",
       "<table border=\"1\" class=\"dataframe\">\n",
       "  <thead>\n",
       "    <tr style=\"text-align: right;\">\n",
       "      <th></th>\n",
       "      <th>Unnamed: 0</th>\n",
       "      <th>cell_id</th>\n",
       "      <th>cell_type</th>\n",
       "      <th>firing_rate</th>\n",
       "      <th>ap_threshold</th>\n",
       "      <th>ap_duration</th>\n",
       "      <th>mean_vm</th>\n",
       "      <th>std_vm</th>\n",
       "      <th>fft_low</th>\n",
       "      <th>fft_high</th>\n",
       "    </tr>\n",
       "  </thead>\n",
       "  <tbody>\n",
       "    <tr>\n",
       "      <th>0</th>\n",
       "      <td>0</td>\n",
       "      <td>AP032_1</td>\n",
       "      <td>PV</td>\n",
       "      <td>0.875000</td>\n",
       "      <td>-0.040795</td>\n",
       "      <td>0.608929</td>\n",
       "      <td>-0.064378</td>\n",
       "      <td>0.005948</td>\n",
       "      <td>0.000763</td>\n",
       "      <td>0.000070</td>\n",
       "    </tr>\n",
       "    <tr>\n",
       "      <th>1</th>\n",
       "      <td>1</td>\n",
       "      <td>AP032_2</td>\n",
       "      <td>PV</td>\n",
       "      <td>1.857143</td>\n",
       "      <td>-0.040812</td>\n",
       "      <td>0.993269</td>\n",
       "      <td>-0.056189</td>\n",
       "      <td>0.005208</td>\n",
       "      <td>0.000635</td>\n",
       "      <td>0.000090</td>\n",
       "    </tr>\n",
       "    <tr>\n",
       "      <th>2</th>\n",
       "      <td>2</td>\n",
       "      <td>AP035_1</td>\n",
       "      <td>PV</td>\n",
       "      <td>2.100000</td>\n",
       "      <td>-0.037562</td>\n",
       "      <td>0.786111</td>\n",
       "      <td>-0.058273</td>\n",
       "      <td>0.006374</td>\n",
       "      <td>0.000775</td>\n",
       "      <td>0.000053</td>\n",
       "    </tr>\n",
       "  </tbody>\n",
       "</table>\n",
       "</div>"
      ],
      "text/plain": [
       "   Unnamed: 0  cell_id cell_type  firing_rate  ap_threshold  ap_duration  \\\n",
       "0           0  AP032_1        PV     0.875000     -0.040795     0.608929   \n",
       "1           1  AP032_2        PV     1.857143     -0.040812     0.993269   \n",
       "2           2  AP035_1        PV     2.100000     -0.037562     0.786111   \n",
       "\n",
       "    mean_vm    std_vm   fft_low  fft_high  \n",
       "0 -0.064378  0.005948  0.000763  0.000070  \n",
       "1 -0.056189  0.005208  0.000635  0.000090  \n",
       "2 -0.058273  0.006374  0.000775  0.000053  "
      ]
     },
     "execution_count": 3,
     "metadata": {},
     "output_type": "execute_result"
    }
   ],
   "source": [
    "# Load the first dataset\n",
    "df_1 = pd.read_csv('df_1_free.csv')\n",
    "df_1.head(3)"
   ]
  },
  {
   "cell_type": "code",
   "execution_count": 4,
   "metadata": {},
   "outputs": [
    {
     "data": {
      "text/html": [
       "<div>\n",
       "<style scoped>\n",
       "    .dataframe tbody tr th:only-of-type {\n",
       "        vertical-align: middle;\n",
       "    }\n",
       "\n",
       "    .dataframe tbody tr th {\n",
       "        vertical-align: top;\n",
       "    }\n",
       "\n",
       "    .dataframe thead th {\n",
       "        text-align: right;\n",
       "    }\n",
       "</style>\n",
       "<table border=\"1\" class=\"dataframe\">\n",
       "  <thead>\n",
       "    <tr style=\"text-align: right;\">\n",
       "      <th></th>\n",
       "      <th>Unnamed: 0</th>\n",
       "      <th>cell_id</th>\n",
       "      <th>cell_type</th>\n",
       "      <th>numb_events</th>\n",
       "      <th>wp_avg</th>\n",
       "      <th>wp_amplitude_pre</th>\n",
       "      <th>wp_amplitude_post</th>\n",
       "      <th>vm_avg</th>\n",
       "      <th>vm_amplitude_pre</th>\n",
       "      <th>vm_amplitude_post</th>\n",
       "      <th>ap_avg</th>\n",
       "      <th>ap_psth</th>\n",
       "      <th>ap_fr_pre</th>\n",
       "      <th>ap_fr_post</th>\n",
       "    </tr>\n",
       "  </thead>\n",
       "  <tbody>\n",
       "    <tr>\n",
       "      <th>0</th>\n",
       "      <td>0</td>\n",
       "      <td>AP032_1</td>\n",
       "      <td>PV</td>\n",
       "      <td>17</td>\n",
       "      <td>[-139.34721176 -139.41210588 -139.50944706 -13...</td>\n",
       "      <td>-139.536777</td>\n",
       "      <td>-135.226516</td>\n",
       "      <td>[-0.05683997 -0.05685285 -0.0568672  ... -0.05...</td>\n",
       "      <td>-55.504155</td>\n",
       "      <td>-55.399560</td>\n",
       "      <td>[0. 0. 0. ... 0. 0. 0.]</td>\n",
       "      <td>[27.05882353 22.35294118 18.82352941 24.705882...</td>\n",
       "      <td>23.241104</td>\n",
       "      <td>27.065590</td>\n",
       "    </tr>\n",
       "    <tr>\n",
       "      <th>1</th>\n",
       "      <td>1</td>\n",
       "      <td>AP032_2</td>\n",
       "      <td>PV</td>\n",
       "      <td>4</td>\n",
       "      <td>[-139.157625 -139.319675 -139.157625 -139.1576...</td>\n",
       "      <td>-139.157622</td>\n",
       "      <td>-134.807553</td>\n",
       "      <td>[-0.0507625  -0.05074375 -0.05072891 ... -0.04...</td>\n",
       "      <td>-48.994021</td>\n",
       "      <td>-50.584425</td>\n",
       "      <td>[0. 0. 0. ... 0. 0. 0.]</td>\n",
       "      <td>[35. 15. 45. 25. 25. 15. 15.  5. 15. 15. 20.  ...</td>\n",
       "      <td>30.007502</td>\n",
       "      <td>8.752188</td>\n",
       "    </tr>\n",
       "    <tr>\n",
       "      <th>2</th>\n",
       "      <td>2</td>\n",
       "      <td>AP035_1</td>\n",
       "      <td>PV</td>\n",
       "      <td>8</td>\n",
       "      <td>[-131.4792875 -131.5651625 -131.3075125 -131.3...</td>\n",
       "      <td>-131.406960</td>\n",
       "      <td>-125.811327</td>\n",
       "      <td>[-0.05370352 -0.05371172 -0.05371602 ... -0.05...</td>\n",
       "      <td>-54.334653</td>\n",
       "      <td>-59.056842</td>\n",
       "      <td>[0. 0. 0. ... 0. 0. 0.]</td>\n",
       "      <td>[27.5 20.  17.5 32.5 32.5 15.   2.5 10.  12.5 ...</td>\n",
       "      <td>24.381095</td>\n",
       "      <td>7.501875</td>\n",
       "    </tr>\n",
       "  </tbody>\n",
       "</table>\n",
       "</div>"
      ],
      "text/plain": [
       "   Unnamed: 0  cell_id cell_type  numb_events  \\\n",
       "0           0  AP032_1        PV           17   \n",
       "1           1  AP032_2        PV            4   \n",
       "2           2  AP035_1        PV            8   \n",
       "\n",
       "                                              wp_avg  wp_amplitude_pre  \\\n",
       "0  [-139.34721176 -139.41210588 -139.50944706 -13...       -139.536777   \n",
       "1  [-139.157625 -139.319675 -139.157625 -139.1576...       -139.157622   \n",
       "2  [-131.4792875 -131.5651625 -131.3075125 -131.3...       -131.406960   \n",
       "\n",
       "   wp_amplitude_post                                             vm_avg  \\\n",
       "0        -135.226516  [-0.05683997 -0.05685285 -0.0568672  ... -0.05...   \n",
       "1        -134.807553  [-0.0507625  -0.05074375 -0.05072891 ... -0.04...   \n",
       "2        -125.811327  [-0.05370352 -0.05371172 -0.05371602 ... -0.05...   \n",
       "\n",
       "   vm_amplitude_pre  vm_amplitude_post                   ap_avg  \\\n",
       "0        -55.504155         -55.399560  [0. 0. 0. ... 0. 0. 0.]   \n",
       "1        -48.994021         -50.584425  [0. 0. 0. ... 0. 0. 0.]   \n",
       "2        -54.334653         -59.056842  [0. 0. 0. ... 0. 0. 0.]   \n",
       "\n",
       "                                             ap_psth  ap_fr_pre  ap_fr_post  \n",
       "0  [27.05882353 22.35294118 18.82352941 24.705882...  23.241104   27.065590  \n",
       "1  [35. 15. 45. 25. 25. 15. 15.  5. 15. 15. 20.  ...  30.007502    8.752188  \n",
       "2  [27.5 20.  17.5 32.5 32.5 15.   2.5 10.  12.5 ...  24.381095    7.501875  "
      ]
     },
     "execution_count": 4,
     "metadata": {},
     "output_type": "execute_result"
    }
   ],
   "source": [
    "# Load the second dataset\n",
    "df_2 = pd.read_csv('df_2_free.csv')\n",
    "df_2.head(3)"
   ]
  },
  {
   "cell_type": "code",
   "execution_count": 5,
   "metadata": {},
   "outputs": [
    {
     "data": {
      "text/html": [
       "<div>\n",
       "<style scoped>\n",
       "    .dataframe tbody tr th:only-of-type {\n",
       "        vertical-align: middle;\n",
       "    }\n",
       "\n",
       "    .dataframe tbody tr th {\n",
       "        vertical-align: top;\n",
       "    }\n",
       "\n",
       "    .dataframe thead th {\n",
       "        text-align: right;\n",
       "    }\n",
       "</style>\n",
       "<table border=\"1\" class=\"dataframe\">\n",
       "  <thead>\n",
       "    <tr style=\"text-align: right;\">\n",
       "      <th></th>\n",
       "      <th>cell_id</th>\n",
       "      <th>cell_type</th>\n",
       "      <th>firing_rate</th>\n",
       "      <th>ap_threshold</th>\n",
       "      <th>ap_duration</th>\n",
       "      <th>mean_vm</th>\n",
       "      <th>std_vm</th>\n",
       "      <th>fft_low</th>\n",
       "      <th>fft_high</th>\n",
       "      <th>numb_events</th>\n",
       "      <th>wp_avg</th>\n",
       "      <th>wp_amplitude_pre</th>\n",
       "      <th>wp_amplitude_post</th>\n",
       "      <th>vm_avg</th>\n",
       "      <th>vm_amplitude_pre</th>\n",
       "      <th>vm_amplitude_post</th>\n",
       "      <th>ap_avg</th>\n",
       "      <th>ap_psth</th>\n",
       "      <th>ap_fr_pre</th>\n",
       "      <th>ap_fr_post</th>\n",
       "    </tr>\n",
       "  </thead>\n",
       "  <tbody>\n",
       "    <tr>\n",
       "      <th>0</th>\n",
       "      <td>AP032_1</td>\n",
       "      <td>PV</td>\n",
       "      <td>0.875000</td>\n",
       "      <td>-0.040795</td>\n",
       "      <td>0.608929</td>\n",
       "      <td>-0.064378</td>\n",
       "      <td>0.005948</td>\n",
       "      <td>0.000763</td>\n",
       "      <td>0.000070</td>\n",
       "      <td>17</td>\n",
       "      <td>[-139.34721176 -139.41210588 -139.50944706 -13...</td>\n",
       "      <td>-139.536777</td>\n",
       "      <td>-135.226516</td>\n",
       "      <td>[-0.05683997 -0.05685285 -0.0568672  ... -0.05...</td>\n",
       "      <td>-55.504155</td>\n",
       "      <td>-55.399560</td>\n",
       "      <td>[0. 0. 0. ... 0. 0. 0.]</td>\n",
       "      <td>[27.05882353 22.35294118 18.82352941 24.705882...</td>\n",
       "      <td>23.241104</td>\n",
       "      <td>27.065590</td>\n",
       "    </tr>\n",
       "    <tr>\n",
       "      <th>1</th>\n",
       "      <td>AP032_2</td>\n",
       "      <td>PV</td>\n",
       "      <td>1.857143</td>\n",
       "      <td>-0.040812</td>\n",
       "      <td>0.993269</td>\n",
       "      <td>-0.056189</td>\n",
       "      <td>0.005208</td>\n",
       "      <td>0.000635</td>\n",
       "      <td>0.000090</td>\n",
       "      <td>4</td>\n",
       "      <td>[-139.157625 -139.319675 -139.157625 -139.1576...</td>\n",
       "      <td>-139.157622</td>\n",
       "      <td>-134.807553</td>\n",
       "      <td>[-0.0507625  -0.05074375 -0.05072891 ... -0.04...</td>\n",
       "      <td>-48.994021</td>\n",
       "      <td>-50.584425</td>\n",
       "      <td>[0. 0. 0. ... 0. 0. 0.]</td>\n",
       "      <td>[35. 15. 45. 25. 25. 15. 15.  5. 15. 15. 20.  ...</td>\n",
       "      <td>30.007502</td>\n",
       "      <td>8.752188</td>\n",
       "    </tr>\n",
       "    <tr>\n",
       "      <th>2</th>\n",
       "      <td>AP035_1</td>\n",
       "      <td>PV</td>\n",
       "      <td>2.100000</td>\n",
       "      <td>-0.037562</td>\n",
       "      <td>0.786111</td>\n",
       "      <td>-0.058273</td>\n",
       "      <td>0.006374</td>\n",
       "      <td>0.000775</td>\n",
       "      <td>0.000053</td>\n",
       "      <td>8</td>\n",
       "      <td>[-131.4792875 -131.5651625 -131.3075125 -131.3...</td>\n",
       "      <td>-131.406960</td>\n",
       "      <td>-125.811327</td>\n",
       "      <td>[-0.05370352 -0.05371172 -0.05371602 ... -0.05...</td>\n",
       "      <td>-54.334653</td>\n",
       "      <td>-59.056842</td>\n",
       "      <td>[0. 0. 0. ... 0. 0. 0.]</td>\n",
       "      <td>[27.5 20.  17.5 32.5 32.5 15.   2.5 10.  12.5 ...</td>\n",
       "      <td>24.381095</td>\n",
       "      <td>7.501875</td>\n",
       "    </tr>\n",
       "  </tbody>\n",
       "</table>\n",
       "</div>"
      ],
      "text/plain": [
       "   cell_id cell_type  firing_rate  ap_threshold  ap_duration   mean_vm  \\\n",
       "0  AP032_1        PV     0.875000     -0.040795     0.608929 -0.064378   \n",
       "1  AP032_2        PV     1.857143     -0.040812     0.993269 -0.056189   \n",
       "2  AP035_1        PV     2.100000     -0.037562     0.786111 -0.058273   \n",
       "\n",
       "     std_vm   fft_low  fft_high  numb_events  \\\n",
       "0  0.005948  0.000763  0.000070           17   \n",
       "1  0.005208  0.000635  0.000090            4   \n",
       "2  0.006374  0.000775  0.000053            8   \n",
       "\n",
       "                                              wp_avg  wp_amplitude_pre  \\\n",
       "0  [-139.34721176 -139.41210588 -139.50944706 -13...       -139.536777   \n",
       "1  [-139.157625 -139.319675 -139.157625 -139.1576...       -139.157622   \n",
       "2  [-131.4792875 -131.5651625 -131.3075125 -131.3...       -131.406960   \n",
       "\n",
       "   wp_amplitude_post                                             vm_avg  \\\n",
       "0        -135.226516  [-0.05683997 -0.05685285 -0.0568672  ... -0.05...   \n",
       "1        -134.807553  [-0.0507625  -0.05074375 -0.05072891 ... -0.04...   \n",
       "2        -125.811327  [-0.05370352 -0.05371172 -0.05371602 ... -0.05...   \n",
       "\n",
       "   vm_amplitude_pre  vm_amplitude_post                   ap_avg  \\\n",
       "0        -55.504155         -55.399560  [0. 0. 0. ... 0. 0. 0.]   \n",
       "1        -48.994021         -50.584425  [0. 0. 0. ... 0. 0. 0.]   \n",
       "2        -54.334653         -59.056842  [0. 0. 0. ... 0. 0. 0.]   \n",
       "\n",
       "                                             ap_psth  ap_fr_pre  ap_fr_post  \n",
       "0  [27.05882353 22.35294118 18.82352941 24.705882...  23.241104   27.065590  \n",
       "1  [35. 15. 45. 25. 25. 15. 15.  5. 15. 15. 20.  ...  30.007502    8.752188  \n",
       "2  [27.5 20.  17.5 32.5 32.5 15.   2.5 10.  12.5 ...  24.381095    7.501875  "
      ]
     },
     "execution_count": 5,
     "metadata": {},
     "output_type": "execute_result"
    }
   ],
   "source": [
    "# Merge them and suppress unwanted columns\n",
    "df = df_1.merge(df_2, on=['cell_id', 'cell_type'])\n",
    "df = df.drop(['Unnamed: 0_x', 'Unnamed: 0_y'], axis=1)\n",
    "df.head(3)"
   ]
  },
  {
   "cell_type": "code",
   "execution_count": 6,
   "metadata": {},
   "outputs": [
    {
     "name": "stdout",
     "output_type": "stream",
     "text": [
      "(232, 10)\n",
      "(232, 14)\n",
      "(232, 20)\n"
     ]
    }
   ],
   "source": [
    "print(df_1.shape)\n",
    "print(df_2.shape)\n",
    "print(df.shape)"
   ]
  },
  {
   "cell_type": "code",
   "execution_count": 7,
   "metadata": {},
   "outputs": [
    {
     "data": {
      "text/html": [
       "<div>\n",
       "<style scoped>\n",
       "    .dataframe tbody tr th:only-of-type {\n",
       "        vertical-align: middle;\n",
       "    }\n",
       "\n",
       "    .dataframe tbody tr th {\n",
       "        vertical-align: top;\n",
       "    }\n",
       "\n",
       "    .dataframe thead th {\n",
       "        text-align: right;\n",
       "    }\n",
       "</style>\n",
       "<table border=\"1\" class=\"dataframe\">\n",
       "  <thead>\n",
       "    <tr style=\"text-align: right;\">\n",
       "      <th></th>\n",
       "      <th>cell_type</th>\n",
       "      <th>firing_rate</th>\n",
       "      <th>ap_threshold</th>\n",
       "      <th>ap_duration</th>\n",
       "      <th>mean_vm</th>\n",
       "      <th>std_vm</th>\n",
       "      <th>fft_low</th>\n",
       "      <th>fft_high</th>\n",
       "      <th>numb_events</th>\n",
       "      <th>wp_amplitude_pre</th>\n",
       "      <th>wp_amplitude_post</th>\n",
       "      <th>vm_amplitude_pre</th>\n",
       "      <th>vm_amplitude_post</th>\n",
       "      <th>ap_fr_pre</th>\n",
       "      <th>ap_fr_post</th>\n",
       "    </tr>\n",
       "  </thead>\n",
       "  <tbody>\n",
       "    <tr>\n",
       "      <th>0</th>\n",
       "      <td>0</td>\n",
       "      <td>0.875000</td>\n",
       "      <td>-0.040795</td>\n",
       "      <td>0.608929</td>\n",
       "      <td>-0.064378</td>\n",
       "      <td>0.005948</td>\n",
       "      <td>0.000763</td>\n",
       "      <td>0.000070</td>\n",
       "      <td>17</td>\n",
       "      <td>-139.536777</td>\n",
       "      <td>-135.226516</td>\n",
       "      <td>-55.504155</td>\n",
       "      <td>-55.399560</td>\n",
       "      <td>23.241104</td>\n",
       "      <td>27.065590</td>\n",
       "    </tr>\n",
       "    <tr>\n",
       "      <th>1</th>\n",
       "      <td>0</td>\n",
       "      <td>1.857143</td>\n",
       "      <td>-0.040812</td>\n",
       "      <td>0.993269</td>\n",
       "      <td>-0.056189</td>\n",
       "      <td>0.005208</td>\n",
       "      <td>0.000635</td>\n",
       "      <td>0.000090</td>\n",
       "      <td>4</td>\n",
       "      <td>-139.157622</td>\n",
       "      <td>-134.807553</td>\n",
       "      <td>-48.994021</td>\n",
       "      <td>-50.584425</td>\n",
       "      <td>30.007502</td>\n",
       "      <td>8.752188</td>\n",
       "    </tr>\n",
       "    <tr>\n",
       "      <th>2</th>\n",
       "      <td>0</td>\n",
       "      <td>2.100000</td>\n",
       "      <td>-0.037562</td>\n",
       "      <td>0.786111</td>\n",
       "      <td>-0.058273</td>\n",
       "      <td>0.006374</td>\n",
       "      <td>0.000775</td>\n",
       "      <td>0.000053</td>\n",
       "      <td>8</td>\n",
       "      <td>-131.406960</td>\n",
       "      <td>-125.811327</td>\n",
       "      <td>-54.334653</td>\n",
       "      <td>-59.056842</td>\n",
       "      <td>24.381095</td>\n",
       "      <td>7.501875</td>\n",
       "    </tr>\n",
       "    <tr>\n",
       "      <th>3</th>\n",
       "      <td>0</td>\n",
       "      <td>0.900000</td>\n",
       "      <td>-0.031695</td>\n",
       "      <td>0.849537</td>\n",
       "      <td>-0.055222</td>\n",
       "      <td>0.006061</td>\n",
       "      <td>0.000837</td>\n",
       "      <td>0.000069</td>\n",
       "      <td>12</td>\n",
       "      <td>-132.794568</td>\n",
       "      <td>-118.696745</td>\n",
       "      <td>-50.060496</td>\n",
       "      <td>-53.241710</td>\n",
       "      <td>39.176461</td>\n",
       "      <td>19.588230</td>\n",
       "    </tr>\n",
       "    <tr>\n",
       "      <th>4</th>\n",
       "      <td>1</td>\n",
       "      <td>0.566667</td>\n",
       "      <td>-0.040215</td>\n",
       "      <td>0.866176</td>\n",
       "      <td>-0.060517</td>\n",
       "      <td>0.004220</td>\n",
       "      <td>0.000513</td>\n",
       "      <td>0.000054</td>\n",
       "      <td>3</td>\n",
       "      <td>-146.466663</td>\n",
       "      <td>-138.432118</td>\n",
       "      <td>-57.928339</td>\n",
       "      <td>-62.284089</td>\n",
       "      <td>0.000000</td>\n",
       "      <td>0.000000</td>\n",
       "    </tr>\n",
       "  </tbody>\n",
       "</table>\n",
       "</div>"
      ],
      "text/plain": [
       "   cell_type  firing_rate  ap_threshold  ap_duration   mean_vm    std_vm  \\\n",
       "0          0     0.875000     -0.040795     0.608929 -0.064378  0.005948   \n",
       "1          0     1.857143     -0.040812     0.993269 -0.056189  0.005208   \n",
       "2          0     2.100000     -0.037562     0.786111 -0.058273  0.006374   \n",
       "3          0     0.900000     -0.031695     0.849537 -0.055222  0.006061   \n",
       "4          1     0.566667     -0.040215     0.866176 -0.060517  0.004220   \n",
       "\n",
       "    fft_low  fft_high  numb_events  wp_amplitude_pre  wp_amplitude_post  \\\n",
       "0  0.000763  0.000070           17       -139.536777        -135.226516   \n",
       "1  0.000635  0.000090            4       -139.157622        -134.807553   \n",
       "2  0.000775  0.000053            8       -131.406960        -125.811327   \n",
       "3  0.000837  0.000069           12       -132.794568        -118.696745   \n",
       "4  0.000513  0.000054            3       -146.466663        -138.432118   \n",
       "\n",
       "   vm_amplitude_pre  vm_amplitude_post  ap_fr_pre  ap_fr_post  \n",
       "0        -55.504155         -55.399560  23.241104   27.065590  \n",
       "1        -48.994021         -50.584425  30.007502    8.752188  \n",
       "2        -54.334653         -59.056842  24.381095    7.501875  \n",
       "3        -50.060496         -53.241710  39.176461   19.588230  \n",
       "4        -57.928339         -62.284089   0.000000    0.000000  "
      ]
     },
     "execution_count": 7,
     "metadata": {},
     "output_type": "execute_result"
    }
   ],
   "source": [
    "# Remove columns with strings \n",
    "df = df.drop(['cell_id', 'wp_avg', 'vm_avg', 'ap_avg', 'ap_psth'], axis=1)\n",
    "\n",
    "index_col = list(df['cell_type'].unique())\n",
    "\n",
    "# Transform the labels into numbers\n",
    "df['cell_type'] = df['cell_type'].apply(index_col.index)\n",
    "\n",
    "# Replace NaN values with 0\n",
    "df.fillna(0, inplace=True)\n",
    "df.head(5)"
   ]
  },
  {
   "cell_type": "code",
   "execution_count": 8,
   "metadata": {},
   "outputs": [],
   "source": [
    "# Create the X, y datasets\n",
    "X = df.loc[:, df.columns != 'cell_type']\n",
    "y = df['cell_type']\n",
    "\n",
    "# Split the data into train and test sets\n",
    "X_train, X_test, y_train, y_test = train_test_split(X, y, test_size=0.2, random_state=42)"
   ]
  },
  {
   "cell_type": "markdown",
   "metadata": {},
   "source": [
    "### Multiple Logistic Regression"
   ]
  },
  {
   "cell_type": "code",
   "execution_count": 23,
   "metadata": {},
   "outputs": [
    {
     "name": "stdout",
     "output_type": "stream",
     "text": [
      "Logistic Regression Accuracy: 0.6808510638297872\n"
     ]
    },
    {
     "data": {
      "image/png": "[encoded data removed]",
      "text/plain": [
       "<Figure size 1000x800 with 2 Axes>"
      ]
     },
     "metadata": {},
     "output_type": "display_data"
    }
   ],
   "source": [
    "# Create Logistic Regression model\n",
    "lr = LogisticRegression(multi_class='multinomial', solver='lbfgs', max_iter=2000)\n",
    "\n",
    "# Fit the model to the training data\n",
    "lr.fit(X_train, y_train)\n",
    "\n",
    "# Predict on the test set\n",
    "y_pred_lr = lr.predict(X_test)\n",
    "\n",
    "# Evaluate the model\n",
    "accuracy_lr = accuracy_score(y_test, y_pred_lr)\n",
    "print(f'Logistic Regression Accuracy: {accuracy_lr}')\n",
    "\n",
    "# Create confusion matrix\n",
    "cm_lr = confusion_matrix(y_test, y_pred_lr)\n",
    "cm_df_lr = pd.DataFrame(cm_lr, index = index_col, columns = index_col)\n",
    "\n",
    "# Plot confusion matrix using seaborn heatmap\n",
    "plt.figure(figsize=(10, 8))\n",
    "sns.heatmap(cm_df_lr, annot=True)\n",
    "plt.title('Confusion Matrix for Multinomial Logistic Regression model')\n",
    "plt.xlabel('Predicted')\n",
    "plt.ylabel('Actual')\n",
    "plt.show()\n"
   ]
  },
  {
   "cell_type": "markdown",
   "metadata": {},
   "source": [
    "### Random Forest"
   ]
  },
  {
   "cell_type": "code",
   "execution_count": 27,
   "metadata": {},
   "outputs": [
    {
     "name": "stdout",
     "output_type": "stream",
     "text": [
      "Random Forest accuracy: 0.5957446808510638\n"
     ]
    },
    {
     "data": {
      "image/png": "[encoded data removed]",
      "text/plain": [
       "<Figure size 1000x800 with 2 Axes>"
      ]
     },
     "metadata": {},
     "output_type": "display_data"
    }
   ],
   "source": [
    "# Create Random Forest model\n",
    "rf = RandomForestClassifier(n_estimators=100, random_state=42)\n",
    "\n",
    "# Fit the model to the training data\n",
    "rf.fit(X_train, y_train)\n",
    "\n",
    "# Predict on the test set\n",
    "y_pred_rf = rf.predict(X_test)\n",
    "#y_probs_rf = rf.predict_proba(X_test)\n",
    "#roc_auc_rf = roc_auc_score(y_test, y_probs_rf, multi_class='ovr', average='micro')\n",
    "#fpr_rf, tpr_rf, _ = roc_curve(y_test.ravel(), y_probs_rf.ravel())\n",
    "\n",
    "# Evaluate the model\n",
    "accuracy_rf = accuracy_score(y_test, y_pred_rf)\n",
    "print(f'Random Forest accuracy: {accuracy_rf}')\n",
    "\n",
    "# Create confusion matrix\n",
    "cm_rf = confusion_matrix(y_test, y_pred_rf)\n",
    "cm_df_rf = pd.DataFrame(cm_rf, index = index_col, columns = index_col)\n",
    "\n",
    "# Plot confusion matrix using seaborn heatmap\n",
    "plt.figure(figsize=(10, 8))\n",
    "sns.heatmap(cm_df_rf, annot=True)\n",
    "plt.title('Confusion Matrix for Random Forest model')\n",
    "plt.xlabel('Predicted')\n",
    "plt.ylabel('Actual')\n",
    "plt.show()\n"
   ]
  },
  {
   "cell_type": "markdown",
   "metadata": {},
   "source": [
    "### K-Nearest Neighbors"
   ]
  },
  {
   "cell_type": "code",
   "execution_count": 25,
   "metadata": {},
   "outputs": [
    {
     "name": "stdout",
     "output_type": "stream",
     "text": [
      "KNN accuracy: 0.6170212765957447\n"
     ]
    },
    {
     "data": {
      "image/png": "[encoded data removed]",
      "text/plain": [
       "<Figure size 1000x800 with 2 Axes>"
      ]
     },
     "metadata": {},
     "output_type": "display_data"
    }
   ],
   "source": [
    "# Create knn model\n",
    "knn = KNeighborsClassifier(n_neighbors=5)\n",
    "\n",
    "# Fit the model to the training data\n",
    "knn.fit(X_train, y_train)\n",
    "\n",
    "# Predict on the test set\n",
    "y_pred_knn = knn.predict(X_test)\n",
    "\n",
    "# Evaluate the model\n",
    "accuracy_knn = accuracy_score(y_test, y_pred_knn)\n",
    "print(f'KNN accuracy: {accuracy_knn}')\n",
    "\n",
    "# Create confusion matrix\n",
    "cm_knn = confusion_matrix(y_test, y_pred_knn)\n",
    "cm_df_knn = pd.DataFrame(cm_knn, index = index_col, columns = index_col)\n",
    "\n",
    "# Plot confusion matrix using seaborn heatmap\n",
    "plt.figure(figsize=(10, 8))\n",
    "sns.heatmap(cm_df_knn, annot=True)\n",
    "plt.title('Confusion Matrix for KNN model')\n",
    "plt.xlabel('Predicted')\n",
    "plt.ylabel('Actual')\n",
    "plt.show()"
   ]
  },
  {
   "cell_type": "markdown",
   "metadata": {},
   "source": [
    "### Support Vector Machine"
   ]
  },
  {
   "cell_type": "code",
   "execution_count": 29,
   "metadata": {},
   "outputs": [
    {
     "name": "stdout",
     "output_type": "stream",
     "text": [
      "SVM accuracy: 0.6382978723404256\n"
     ]
    },
    {
     "data": {
      "image/png": "[encoded data removed]",
      "text/plain": [
       "<Figure size 1000x800 with 2 Axes>"
      ]
     },
     "metadata": {},
     "output_type": "display_data"
    }
   ],
   "source": [
    "# Create SVM model\n",
    "svm = SVC(kernel='linear', C=1.0, random_state=42)\n",
    "\n",
    "# Fit the model to the training data\n",
    "svm.fit(X_train, y_train)\n",
    "\n",
    "# Predict on the test set\n",
    "y_pred_svm = svm.predict(X_test)\n",
    "\n",
    "# Evaluate the model\n",
    "accuracy_svm = accuracy_score(y_test, y_pred_svm)\n",
    "print(f'SVM accuracy: {accuracy_svm}')\n",
    "\n",
    "# Create confusion matrix\n",
    "cm_svm = confusion_matrix(y_test, y_pred_svm)\n",
    "cm_df_svm = pd.DataFrame(cm_svm, index = index_col, columns = index_col)\n",
    "\n",
    "# Plot confusion matrix using seaborn heatmap\n",
    "plt.figure(figsize=(10, 8))\n",
    "sns.heatmap(cm_df_svm, annot=True)\n",
    "plt.title('Confusion Matrix for SVM model')\n",
    "plt.xlabel('Predicted')\n",
    "plt.ylabel('Actual')\n",
    "plt.show()"
   ]
  },
  {
   "cell_type": "code",
   "execution_count": null,
   "metadata": {},
   "outputs": [],
   "source": []
  }
 ],
 "metadata": {
  "colab": {
   "collapsed_sections": [],
   "name": "Miniproject_part1.ipynb",
   "provenance": []
  },
  "kernelspec": {
   "display_name": "Python 3 (ipykernel)",
   "language": "python",
   "name": "python3"
  },
  "language_info": {
   "codemirror_mode": {
    "name": "ipython",
    "version": 3
   },
   "file_extension": ".py",
   "mimetype": "text/x-python",
   "name": "python",
   "nbconvert_exporter": "python",
   "pygments_lexer": "ipython3",
   "version": "3.10.13"
  },
  "vscode": {
   "interpreter": {
    "hash": "0a54084e6b208ee8d1ce3989ffc20924477a5f55f5a43e22e699a6741623861e"
   }
  }
 },
 "nbformat": 4,
 "nbformat_minor": 4
}
