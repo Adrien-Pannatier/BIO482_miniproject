{
 "cells": [
  {
   "cell_type": "markdown",
   "metadata": {
    "id": "8GefxTt4Zrmg"
   },
   "source": [
    "# Miniproject - Neuroscience: cellular and circuit mechanisms (BIO-482)\n",
    "\n",
    "- This notebook contains the part 4 of the miniproject - the personal project.\n",
    "\n",
    "#### Importing libraries"
   ]
  },
  {
   "cell_type": "code",
   "execution_count": 1,
   "metadata": {
    "colab": {
     "base_uri": "https://localhost:8080/"
    },
    "id": "bgSHGo8yD27T",
    "outputId": "c4a4062a-37c3-4208-ef19-0a1108272ac2",
    "tags": []
   },
   "outputs": [],
   "source": [
    "import os\n",
    "import sys\n",
    "import numpy as np\n",
    "import pandas as pd\n",
    "from sklearn.linear_model import LinearRegression \n",
    "from sklearn.model_selection import train_test_split\n",
    "from sklearn.linear_model import LogisticRegression\n",
    "from sklearn.ensemble import RandomForestClassifier\n",
    "from sklearn.neighbors import KNeighborsClassifier\n",
    "from sklearn.svm import SVC\n",
    "from sklearn.metrics import accuracy_score, classification_report, roc_auc_score, roc_curve, confusion_matrix\n",
    "import scipy.stats\n",
    "import matplotlib.pyplot as plt\n",
    "import seaborn as sns"
   ]
  },
  {
   "cell_type": "markdown",
   "metadata": {},
   "source": [
    "#### Importing helper functions\n",
    " Feel free to check out what these functions do in the corresponding files, `helpers.py` or `utils.py`. \n",
    " - `helpers.py` contains functions to analyze membrane potential recording data\n",
    " - `utils.py` contains functions useful for other things e.g. plotting"
   ]
  },
  {
   "cell_type": "code",
   "execution_count": 2,
   "metadata": {
    "tags": []
   },
   "outputs": [],
   "source": [
    "base_path = os.getcwd()\n",
    "base_path = base_path.replace('notebooks', 'scripts') # note: if you have notebooks twice in your base_path, this won't work\n",
    "sys.path.insert(1, base_path)\n",
    "\n",
    "from helpers import *\n",
    "from utils import remove_top_right_frame, jitter_scatterplot"
   ]
  },
  {
   "cell_type": "markdown",
   "metadata": {},
   "source": [
    "# Load and preprocess the data\n",
    "Load previously saved dataframe as `.csv` file:"
   ]
  },
  {
   "cell_type": "code",
   "execution_count": 3,
   "metadata": {
    "tags": []
   },
   "outputs": [
    {
     "data": {
      "text/html": [
       "<div>\n",
       "<style scoped>\n",
       "    .dataframe tbody tr th:only-of-type {\n",
       "        vertical-align: middle;\n",
       "    }\n",
       "\n",
       "    .dataframe tbody tr th {\n",
       "        vertical-align: top;\n",
       "    }\n",
       "\n",
       "    .dataframe thead th {\n",
       "        text-align: right;\n",
       "    }\n",
       "</style>\n",
       "<table border=\"1\" class=\"dataframe\">\n",
       "  <thead>\n",
       "    <tr style=\"text-align: right;\">\n",
       "      <th></th>\n",
       "      <th>Unnamed: 0</th>\n",
       "      <th>cell_id</th>\n",
       "      <th>cell_type</th>\n",
       "      <th>firing_rate</th>\n",
       "      <th>ap_threshold</th>\n",
       "      <th>ap_duration</th>\n",
       "      <th>mean_vm</th>\n",
       "      <th>std_vm</th>\n",
       "      <th>fft_low</th>\n",
       "      <th>fft_high</th>\n",
       "    </tr>\n",
       "  </thead>\n",
       "  <tbody>\n",
       "    <tr>\n",
       "      <th>0</th>\n",
       "      <td>0</td>\n",
       "      <td>JP902_1</td>\n",
       "      <td>EXC</td>\n",
       "      <td>1.062500</td>\n",
       "      <td>-0.038696</td>\n",
       "      <td>0.670588</td>\n",
       "      <td>-0.061195</td>\n",
       "      <td>0.006330</td>\n",
       "      <td>0.000880</td>\n",
       "      <td>0.000066</td>\n",
       "    </tr>\n",
       "    <tr>\n",
       "      <th>1</th>\n",
       "      <td>1</td>\n",
       "      <td>JP903_1</td>\n",
       "      <td>EXC</td>\n",
       "      <td>1.750000</td>\n",
       "      <td>-0.039856</td>\n",
       "      <td>1.126786</td>\n",
       "      <td>-0.054889</td>\n",
       "      <td>0.004605</td>\n",
       "      <td>0.000627</td>\n",
       "      <td>0.000092</td>\n",
       "    </tr>\n",
       "    <tr>\n",
       "      <th>2</th>\n",
       "      <td>2</td>\n",
       "      <td>JP905_1</td>\n",
       "      <td>EXC</td>\n",
       "      <td>1.391667</td>\n",
       "      <td>-0.036766</td>\n",
       "      <td>0.802096</td>\n",
       "      <td>-0.058734</td>\n",
       "      <td>0.005968</td>\n",
       "      <td>0.000710</td>\n",
       "      <td>0.000054</td>\n",
       "    </tr>\n",
       "  </tbody>\n",
       "</table>\n",
       "</div>"
      ],
      "text/plain": [
       "   Unnamed: 0  cell_id cell_type  firing_rate  ap_threshold  ap_duration  \\\n",
       "0           0  JP902_1       EXC     1.062500     -0.038696     0.670588   \n",
       "1           1  JP903_1       EXC     1.750000     -0.039856     1.126786   \n",
       "2           2  JP905_1       EXC     1.391667     -0.036766     0.802096   \n",
       "\n",
       "    mean_vm    std_vm   fft_low  fft_high  \n",
       "0 -0.061195  0.006330  0.000880  0.000066  \n",
       "1 -0.054889  0.004605  0.000627  0.000092  \n",
       "2 -0.058734  0.005968  0.000710  0.000054  "
      ]
     },
     "execution_count": 3,
     "metadata": {},
     "output_type": "execute_result"
    }
   ],
   "source": [
    "# Load the first dataset\n",
    "df_1 = pd.read_csv('df_1_act.csv')\n",
    "df_1.head(3)"
   ]
  },
  {
   "cell_type": "code",
   "execution_count": 4,
   "metadata": {},
   "outputs": [
    {
     "data": {
      "text/html": [
       "<div>\n",
       "<style scoped>\n",
       "    .dataframe tbody tr th:only-of-type {\n",
       "        vertical-align: middle;\n",
       "    }\n",
       "\n",
       "    .dataframe tbody tr th {\n",
       "        vertical-align: top;\n",
       "    }\n",
       "\n",
       "    .dataframe thead th {\n",
       "        text-align: right;\n",
       "    }\n",
       "</style>\n",
       "<table border=\"1\" class=\"dataframe\">\n",
       "  <thead>\n",
       "    <tr style=\"text-align: right;\">\n",
       "      <th></th>\n",
       "      <th>Unnamed: 0</th>\n",
       "      <th>cell_id</th>\n",
       "      <th>cell_type</th>\n",
       "      <th>numb_events</th>\n",
       "      <th>wp_avg</th>\n",
       "      <th>wp_amplitude_pre</th>\n",
       "      <th>wp_amplitude_post</th>\n",
       "      <th>vm_avg</th>\n",
       "      <th>vm_amplitude_pre</th>\n",
       "      <th>vm_amplitude_post</th>\n",
       "      <th>ap_avg</th>\n",
       "      <th>ap_psth</th>\n",
       "      <th>ap_fr_pre</th>\n",
       "      <th>ap_fr_post</th>\n",
       "    </tr>\n",
       "  </thead>\n",
       "  <tbody>\n",
       "    <tr>\n",
       "      <th>0</th>\n",
       "      <td>0</td>\n",
       "      <td>JP902_1</td>\n",
       "      <td>EXC</td>\n",
       "      <td>13</td>\n",
       "      <td>[ 1.63032302  1.36424201  1.23725137  0.951374...</td>\n",
       "      <td>1.205101</td>\n",
       "      <td>-0.004314</td>\n",
       "      <td>[-0.05661346 -0.0565887  -0.0566137  ... -0.05...</td>\n",
       "      <td>-56.567212</td>\n",
       "      <td>-56.279934</td>\n",
       "      <td>[0. 0. 0. ... 0. 0. 0.]</td>\n",
       "      <td>[0.         0.         0.         1.53846154 0...</td>\n",
       "      <td>0.384712</td>\n",
       "      <td>0.384712</td>\n",
       "    </tr>\n",
       "    <tr>\n",
       "      <th>1</th>\n",
       "      <td>1</td>\n",
       "      <td>JP903_1</td>\n",
       "      <td>EXC</td>\n",
       "      <td>13</td>\n",
       "      <td>[ 5.59008105  5.36690932  5.72071861  5.864409...</td>\n",
       "      <td>5.463008</td>\n",
       "      <td>7.853982</td>\n",
       "      <td>[-0.06675505 -0.06674783 -0.0667613  ... -0.06...</td>\n",
       "      <td>-66.712320</td>\n",
       "      <td>-66.468130</td>\n",
       "      <td>[0. 0. 0. ... 0. 0. 0.]</td>\n",
       "      <td>[0.         0.         0.         0.         1...</td>\n",
       "      <td>0.000000</td>\n",
       "      <td>0.384712</td>\n",
       "    </tr>\n",
       "    <tr>\n",
       "      <th>2</th>\n",
       "      <td>2</td>\n",
       "      <td>JP905_1</td>\n",
       "      <td>EXC</td>\n",
       "      <td>14</td>\n",
       "      <td>[5.20685063 5.28445094 5.3122831  5.32105406 5...</td>\n",
       "      <td>5.774538</td>\n",
       "      <td>5.002845</td>\n",
       "      <td>[-0.05909152 -0.05907611 -0.05908348 ... -0.05...</td>\n",
       "      <td>-58.051123</td>\n",
       "      <td>-55.833821</td>\n",
       "      <td>[0. 0. 0. ... 0. 0. 0.]</td>\n",
       "      <td>[0.         0.         0.         0.         0...</td>\n",
       "      <td>0.000000</td>\n",
       "      <td>1.071696</td>\n",
       "    </tr>\n",
       "  </tbody>\n",
       "</table>\n",
       "</div>"
      ],
      "text/plain": [
       "   Unnamed: 0  cell_id cell_type  numb_events  \\\n",
       "0           0  JP902_1       EXC           13   \n",
       "1           1  JP903_1       EXC           13   \n",
       "2           2  JP905_1       EXC           14   \n",
       "\n",
       "                                              wp_avg  wp_amplitude_pre  \\\n",
       "0  [ 1.63032302  1.36424201  1.23725137  0.951374...          1.205101   \n",
       "1  [ 5.59008105  5.36690932  5.72071861  5.864409...          5.463008   \n",
       "2  [5.20685063 5.28445094 5.3122831  5.32105406 5...          5.774538   \n",
       "\n",
       "   wp_amplitude_post                                             vm_avg  \\\n",
       "0          -0.004314  [-0.05661346 -0.0565887  -0.0566137  ... -0.05...   \n",
       "1           7.853982  [-0.06675505 -0.06674783 -0.0667613  ... -0.06...   \n",
       "2           5.002845  [-0.05909152 -0.05907611 -0.05908348 ... -0.05...   \n",
       "\n",
       "   vm_amplitude_pre  vm_amplitude_post                   ap_avg  \\\n",
       "0        -56.567212         -56.279934  [0. 0. 0. ... 0. 0. 0.]   \n",
       "1        -66.712320         -66.468130  [0. 0. 0. ... 0. 0. 0.]   \n",
       "2        -58.051123         -55.833821  [0. 0. 0. ... 0. 0. 0.]   \n",
       "\n",
       "                                             ap_psth  ap_fr_pre  ap_fr_post  \n",
       "0  [0.         0.         0.         1.53846154 0...   0.384712    0.384712  \n",
       "1  [0.         0.         0.         0.         1...   0.000000    0.384712  \n",
       "2  [0.         0.         0.         0.         0...   0.000000    1.071696  "
      ]
     },
     "execution_count": 4,
     "metadata": {},
     "output_type": "execute_result"
    }
   ],
   "source": [
    "# Load the second dataset\n",
    "df_2 = pd.read_csv('df_2_act.csv')\n",
    "df_2.head(3)"
   ]
  },
  {
   "cell_type": "code",
   "execution_count": 5,
   "metadata": {},
   "outputs": [
    {
     "data": {
      "text/html": [
       "<div>\n",
       "<style scoped>\n",
       "    .dataframe tbody tr th:only-of-type {\n",
       "        vertical-align: middle;\n",
       "    }\n",
       "\n",
       "    .dataframe tbody tr th {\n",
       "        vertical-align: top;\n",
       "    }\n",
       "\n",
       "    .dataframe thead th {\n",
       "        text-align: right;\n",
       "    }\n",
       "</style>\n",
       "<table border=\"1\" class=\"dataframe\">\n",
       "  <thead>\n",
       "    <tr style=\"text-align: right;\">\n",
       "      <th></th>\n",
       "      <th>cell_id</th>\n",
       "      <th>cell_type</th>\n",
       "      <th>firing_rate</th>\n",
       "      <th>ap_threshold</th>\n",
       "      <th>ap_duration</th>\n",
       "      <th>mean_vm</th>\n",
       "      <th>std_vm</th>\n",
       "      <th>fft_low</th>\n",
       "      <th>fft_high</th>\n",
       "      <th>numb_events</th>\n",
       "      <th>wp_avg</th>\n",
       "      <th>wp_amplitude_pre</th>\n",
       "      <th>wp_amplitude_post</th>\n",
       "      <th>vm_avg</th>\n",
       "      <th>vm_amplitude_pre</th>\n",
       "      <th>vm_amplitude_post</th>\n",
       "      <th>ap_avg</th>\n",
       "      <th>ap_psth</th>\n",
       "      <th>ap_fr_pre</th>\n",
       "      <th>ap_fr_post</th>\n",
       "    </tr>\n",
       "  </thead>\n",
       "  <tbody>\n",
       "    <tr>\n",
       "      <th>0</th>\n",
       "      <td>JP902_1</td>\n",
       "      <td>EXC</td>\n",
       "      <td>1.062500</td>\n",
       "      <td>-0.038696</td>\n",
       "      <td>0.670588</td>\n",
       "      <td>-0.061195</td>\n",
       "      <td>0.006330</td>\n",
       "      <td>0.000880</td>\n",
       "      <td>0.000066</td>\n",
       "      <td>13</td>\n",
       "      <td>[ 1.63032302  1.36424201  1.23725137  0.951374...</td>\n",
       "      <td>1.205101</td>\n",
       "      <td>-0.004314</td>\n",
       "      <td>[-0.05661346 -0.0565887  -0.0566137  ... -0.05...</td>\n",
       "      <td>-56.567212</td>\n",
       "      <td>-56.279934</td>\n",
       "      <td>[0. 0. 0. ... 0. 0. 0.]</td>\n",
       "      <td>[0.         0.         0.         1.53846154 0...</td>\n",
       "      <td>0.384712</td>\n",
       "      <td>0.384712</td>\n",
       "    </tr>\n",
       "    <tr>\n",
       "      <th>1</th>\n",
       "      <td>JP903_1</td>\n",
       "      <td>EXC</td>\n",
       "      <td>1.750000</td>\n",
       "      <td>-0.039856</td>\n",
       "      <td>1.126786</td>\n",
       "      <td>-0.054889</td>\n",
       "      <td>0.004605</td>\n",
       "      <td>0.000627</td>\n",
       "      <td>0.000092</td>\n",
       "      <td>13</td>\n",
       "      <td>[ 5.59008105  5.36690932  5.72071861  5.864409...</td>\n",
       "      <td>5.463008</td>\n",
       "      <td>7.853982</td>\n",
       "      <td>[-0.06675505 -0.06674783 -0.0667613  ... -0.06...</td>\n",
       "      <td>-66.712320</td>\n",
       "      <td>-66.468130</td>\n",
       "      <td>[0. 0. 0. ... 0. 0. 0.]</td>\n",
       "      <td>[0.         0.         0.         0.         1...</td>\n",
       "      <td>0.000000</td>\n",
       "      <td>0.384712</td>\n",
       "    </tr>\n",
       "    <tr>\n",
       "      <th>2</th>\n",
       "      <td>JP905_1</td>\n",
       "      <td>EXC</td>\n",
       "      <td>1.391667</td>\n",
       "      <td>-0.036766</td>\n",
       "      <td>0.802096</td>\n",
       "      <td>-0.058734</td>\n",
       "      <td>0.005968</td>\n",
       "      <td>0.000710</td>\n",
       "      <td>0.000054</td>\n",
       "      <td>14</td>\n",
       "      <td>[5.20685063 5.28445094 5.3122831  5.32105406 5...</td>\n",
       "      <td>5.774538</td>\n",
       "      <td>5.002845</td>\n",
       "      <td>[-0.05909152 -0.05907611 -0.05908348 ... -0.05...</td>\n",
       "      <td>-58.051123</td>\n",
       "      <td>-55.833821</td>\n",
       "      <td>[0. 0. 0. ... 0. 0. 0.]</td>\n",
       "      <td>[0.         0.         0.         0.         0...</td>\n",
       "      <td>0.000000</td>\n",
       "      <td>1.071696</td>\n",
       "    </tr>\n",
       "  </tbody>\n",
       "</table>\n",
       "</div>"
      ],
      "text/plain": [
       "   cell_id cell_type  firing_rate  ap_threshold  ap_duration   mean_vm  \\\n",
       "0  JP902_1       EXC     1.062500     -0.038696     0.670588 -0.061195   \n",
       "1  JP903_1       EXC     1.750000     -0.039856     1.126786 -0.054889   \n",
       "2  JP905_1       EXC     1.391667     -0.036766     0.802096 -0.058734   \n",
       "\n",
       "     std_vm   fft_low  fft_high  numb_events  \\\n",
       "0  0.006330  0.000880  0.000066           13   \n",
       "1  0.004605  0.000627  0.000092           13   \n",
       "2  0.005968  0.000710  0.000054           14   \n",
       "\n",
       "                                              wp_avg  wp_amplitude_pre  \\\n",
       "0  [ 1.63032302  1.36424201  1.23725137  0.951374...          1.205101   \n",
       "1  [ 5.59008105  5.36690932  5.72071861  5.864409...          5.463008   \n",
       "2  [5.20685063 5.28445094 5.3122831  5.32105406 5...          5.774538   \n",
       "\n",
       "   wp_amplitude_post                                             vm_avg  \\\n",
       "0          -0.004314  [-0.05661346 -0.0565887  -0.0566137  ... -0.05...   \n",
       "1           7.853982  [-0.06675505 -0.06674783 -0.0667613  ... -0.06...   \n",
       "2           5.002845  [-0.05909152 -0.05907611 -0.05908348 ... -0.05...   \n",
       "\n",
       "   vm_amplitude_pre  vm_amplitude_post                   ap_avg  \\\n",
       "0        -56.567212         -56.279934  [0. 0. 0. ... 0. 0. 0.]   \n",
       "1        -66.712320         -66.468130  [0. 0. 0. ... 0. 0. 0.]   \n",
       "2        -58.051123         -55.833821  [0. 0. 0. ... 0. 0. 0.]   \n",
       "\n",
       "                                             ap_psth  ap_fr_pre  ap_fr_post  \n",
       "0  [0.         0.         0.         1.53846154 0...   0.384712    0.384712  \n",
       "1  [0.         0.         0.         0.         1...   0.000000    0.384712  \n",
       "2  [0.         0.         0.         0.         0...   0.000000    1.071696  "
      ]
     },
     "execution_count": 5,
     "metadata": {},
     "output_type": "execute_result"
    }
   ],
   "source": [
    "# Merge them and suppress unwanted columns\n",
    "df = df_1.merge(df_2, on=['cell_id', 'cell_type'])\n",
    "df = df.drop(['Unnamed: 0_x', 'Unnamed: 0_y'], axis=1)\n",
    "df.head(3)"
   ]
  },
  {
   "cell_type": "code",
   "execution_count": 6,
   "metadata": {},
   "outputs": [
    {
     "name": "stdout",
     "output_type": "stream",
     "text": [
      "(134, 10)\n",
      "(134, 14)\n",
      "(134, 20)\n"
     ]
    }
   ],
   "source": [
    "print(df_1.shape)\n",
    "print(df_2.shape)\n",
    "print(df.shape)"
   ]
  },
  {
   "cell_type": "code",
   "execution_count": 7,
   "metadata": {},
   "outputs": [
    {
     "data": {
      "text/html": [
       "<div>\n",
       "<style scoped>\n",
       "    .dataframe tbody tr th:only-of-type {\n",
       "        vertical-align: middle;\n",
       "    }\n",
       "\n",
       "    .dataframe tbody tr th {\n",
       "        vertical-align: top;\n",
       "    }\n",
       "\n",
       "    .dataframe thead th {\n",
       "        text-align: right;\n",
       "    }\n",
       "</style>\n",
       "<table border=\"1\" class=\"dataframe\">\n",
       "  <thead>\n",
       "    <tr style=\"text-align: right;\">\n",
       "      <th></th>\n",
       "      <th>cell_type</th>\n",
       "      <th>firing_rate</th>\n",
       "      <th>ap_threshold</th>\n",
       "      <th>ap_duration</th>\n",
       "      <th>mean_vm</th>\n",
       "      <th>std_vm</th>\n",
       "      <th>fft_low</th>\n",
       "      <th>fft_high</th>\n",
       "      <th>numb_events</th>\n",
       "      <th>wp_amplitude_pre</th>\n",
       "      <th>wp_amplitude_post</th>\n",
       "      <th>vm_amplitude_pre</th>\n",
       "      <th>vm_amplitude_post</th>\n",
       "      <th>ap_fr_pre</th>\n",
       "      <th>ap_fr_post</th>\n",
       "    </tr>\n",
       "  </thead>\n",
       "  <tbody>\n",
       "    <tr>\n",
       "      <th>0</th>\n",
       "      <td>0</td>\n",
       "      <td>1.062500</td>\n",
       "      <td>-0.038696</td>\n",
       "      <td>0.670588</td>\n",
       "      <td>-0.061195</td>\n",
       "      <td>0.006330</td>\n",
       "      <td>0.000880</td>\n",
       "      <td>0.000066</td>\n",
       "      <td>13</td>\n",
       "      <td>1.205101</td>\n",
       "      <td>-0.004314</td>\n",
       "      <td>-56.567212</td>\n",
       "      <td>-56.279934</td>\n",
       "      <td>0.384712</td>\n",
       "      <td>0.384712</td>\n",
       "    </tr>\n",
       "    <tr>\n",
       "      <th>1</th>\n",
       "      <td>0</td>\n",
       "      <td>1.750000</td>\n",
       "      <td>-0.039856</td>\n",
       "      <td>1.126786</td>\n",
       "      <td>-0.054889</td>\n",
       "      <td>0.004605</td>\n",
       "      <td>0.000627</td>\n",
       "      <td>0.000092</td>\n",
       "      <td>13</td>\n",
       "      <td>5.463008</td>\n",
       "      <td>7.853982</td>\n",
       "      <td>-66.712320</td>\n",
       "      <td>-66.468130</td>\n",
       "      <td>0.000000</td>\n",
       "      <td>0.384712</td>\n",
       "    </tr>\n",
       "    <tr>\n",
       "      <th>2</th>\n",
       "      <td>0</td>\n",
       "      <td>1.391667</td>\n",
       "      <td>-0.036766</td>\n",
       "      <td>0.802096</td>\n",
       "      <td>-0.058734</td>\n",
       "      <td>0.005968</td>\n",
       "      <td>0.000710</td>\n",
       "      <td>0.000054</td>\n",
       "      <td>14</td>\n",
       "      <td>5.774538</td>\n",
       "      <td>5.002845</td>\n",
       "      <td>-58.051123</td>\n",
       "      <td>-55.833821</td>\n",
       "      <td>0.000000</td>\n",
       "      <td>1.071696</td>\n",
       "    </tr>\n",
       "    <tr>\n",
       "      <th>3</th>\n",
       "      <td>0</td>\n",
       "      <td>1.066667</td>\n",
       "      <td>-0.031500</td>\n",
       "      <td>0.993750</td>\n",
       "      <td>-0.053566</td>\n",
       "      <td>0.006013</td>\n",
       "      <td>0.000757</td>\n",
       "      <td>0.000073</td>\n",
       "      <td>19</td>\n",
       "      <td>2.027979</td>\n",
       "      <td>3.041820</td>\n",
       "      <td>-57.561066</td>\n",
       "      <td>-55.488854</td>\n",
       "      <td>0.000000</td>\n",
       "      <td>1.052895</td>\n",
       "    </tr>\n",
       "    <tr>\n",
       "      <th>4</th>\n",
       "      <td>0</td>\n",
       "      <td>0.600000</td>\n",
       "      <td>-0.040162</td>\n",
       "      <td>0.841667</td>\n",
       "      <td>-0.059964</td>\n",
       "      <td>0.004342</td>\n",
       "      <td>0.000476</td>\n",
       "      <td>0.000054</td>\n",
       "      <td>12</td>\n",
       "      <td>-3.327526</td>\n",
       "      <td>-3.169704</td>\n",
       "      <td>-54.709178</td>\n",
       "      <td>-54.485818</td>\n",
       "      <td>0.000000</td>\n",
       "      <td>0.000000</td>\n",
       "    </tr>\n",
       "  </tbody>\n",
       "</table>\n",
       "</div>"
      ],
      "text/plain": [
       "   cell_type  firing_rate  ap_threshold  ap_duration   mean_vm    std_vm  \\\n",
       "0          0     1.062500     -0.038696     0.670588 -0.061195  0.006330   \n",
       "1          0     1.750000     -0.039856     1.126786 -0.054889  0.004605   \n",
       "2          0     1.391667     -0.036766     0.802096 -0.058734  0.005968   \n",
       "3          0     1.066667     -0.031500     0.993750 -0.053566  0.006013   \n",
       "4          0     0.600000     -0.040162     0.841667 -0.059964  0.004342   \n",
       "\n",
       "    fft_low  fft_high  numb_events  wp_amplitude_pre  wp_amplitude_post  \\\n",
       "0  0.000880  0.000066           13          1.205101          -0.004314   \n",
       "1  0.000627  0.000092           13          5.463008           7.853982   \n",
       "2  0.000710  0.000054           14          5.774538           5.002845   \n",
       "3  0.000757  0.000073           19          2.027979           3.041820   \n",
       "4  0.000476  0.000054           12         -3.327526          -3.169704   \n",
       "\n",
       "   vm_amplitude_pre  vm_amplitude_post  ap_fr_pre  ap_fr_post  \n",
       "0        -56.567212         -56.279934   0.384712    0.384712  \n",
       "1        -66.712320         -66.468130   0.000000    0.384712  \n",
       "2        -58.051123         -55.833821   0.000000    1.071696  \n",
       "3        -57.561066         -55.488854   0.000000    1.052895  \n",
       "4        -54.709178         -54.485818   0.000000    0.000000  "
      ]
     },
     "execution_count": 7,
     "metadata": {},
     "output_type": "execute_result"
    }
   ],
   "source": [
    "# Remove columns with strings \n",
    "df = df.drop(['cell_id', 'wp_avg', 'vm_avg', 'ap_avg', 'ap_psth'], axis=1)\n",
    "\n",
    "index_col = list(df['cell_type'].unique())\n",
    "\n",
    "# Transform the labels into numbers\n",
    "df['cell_type'] = df['cell_type'].apply(index_col.index)\n",
    "\n",
    "# Replace NaN values with 0\n",
    "df.fillna(0, inplace=True)\n",
    "df.head(5)"
   ]
  },
  {
   "cell_type": "code",
   "execution_count": 8,
   "metadata": {},
   "outputs": [],
   "source": [
    "# Create the X, y datasets\n",
    "X = df.loc[:, df.columns != 'cell_type']\n",
    "y = df['cell_type']\n",
    "\n",
    "# Split the data into train and test sets\n",
    "X_train, X_test, y_train, y_test = train_test_split(X, y, test_size=0.2, random_state=42)"
   ]
  },
  {
   "cell_type": "code",
   "execution_count": 17,
   "metadata": {},
   "outputs": [
    {
     "data": {
      "text/plain": [
       "(134, 15)"
      ]
     },
     "execution_count": 17,
     "metadata": {},
     "output_type": "execute_result"
    }
   ],
   "source": [
    "df.shape"
   ]
  },
  {
   "cell_type": "markdown",
   "metadata": {},
   "source": [
    "### Multiple Logistic Regression"
   ]
  },
  {
   "cell_type": "code",
   "execution_count": 16,
   "metadata": {},
   "outputs": [
    {
     "name": "stdout",
     "output_type": "stream",
     "text": [
      "Logistic Regression Accuracy: 0.7777777777777778\n"
     ]
    },
    {
     "data": {
      "image/png": "[encoded data removed]",
      "text/plain": [
       "<Figure size 1000x800 with 2 Axes>"
      ]
     },
     "metadata": {},
     "output_type": "display_data"
    }
   ],
   "source": [
    "# Create Logistic Regression model\n",
    "lr = LogisticRegression(multi_class='multinomial', solver='lbfgs', max_iter=100000)\n",
    "\n",
    "# Fit the model to the training data\n",
    "lr.fit(X_train, y_train)\n",
    "\n",
    "# Predict on the test set\n",
    "y_pred_lr = lr.predict(X_test)\n",
    "\n",
    "# Evaluate the model\n",
    "accuracy_lr = accuracy_score(y_test, y_pred_lr)\n",
    "print(f'Logistic Regression Accuracy: {accuracy_lr}')\n",
    "\n",
    "# Create confusion matrix\n",
    "cm_lr = confusion_matrix(y_test, y_pred_lr)\n",
    "cm_df_lr = pd.DataFrame(cm_lr, index = index_col, columns = index_col)\n",
    "\n",
    "# Plot confusion matrix using seaborn heatmap\n",
    "plt.figure(figsize=(10, 8))\n",
    "sns.heatmap(cm_df_lr, annot=True)\n",
    "plt.title('Confusion Matrix for Multinomial Logistic Regression model')\n",
    "plt.xlabel('Predicted')\n",
    "plt.ylabel('Actual')\n",
    "plt.show()\n"
   ]
  },
  {
   "cell_type": "markdown",
   "metadata": {},
   "source": [
    "### Random Forest"
   ]
  },
  {
   "cell_type": "code",
   "execution_count": 10,
   "metadata": {},
   "outputs": [
    {
     "name": "stdout",
     "output_type": "stream",
     "text": [
      "Random Forest accuracy: 0.6296296296296297\n"
     ]
    },
    {
     "data": {
      "image/png": "[encoded data removed]",
      "text/plain": [
       "<Figure size 1000x800 with 2 Axes>"
      ]
     },
     "metadata": {},
     "output_type": "display_data"
    }
   ],
   "source": [
    "# Create Random Forest model\n",
    "rf = RandomForestClassifier(n_estimators=100, random_state=42)\n",
    "\n",
    "# Fit the model to the training data\n",
    "rf.fit(X_train, y_train)\n",
    "\n",
    "# Predict on the test set\n",
    "y_pred_rf = rf.predict(X_test)\n",
    "#y_probs_rf = rf.predict_proba(X_test)\n",
    "#roc_auc_rf = roc_auc_score(y_test, y_probs_rf, multi_class='ovr', average='micro')\n",
    "#fpr_rf, tpr_rf, _ = roc_curve(y_test.ravel(), y_probs_rf.ravel())\n",
    "\n",
    "# Evaluate the model\n",
    "accuracy_rf = accuracy_score(y_test, y_pred_rf)\n",
    "print(f'Random Forest accuracy: {accuracy_rf}')\n",
    "\n",
    "# Create confusion matrix\n",
    "cm_rf = confusion_matrix(y_test, y_pred_rf)\n",
    "cm_df_rf = pd.DataFrame(cm_rf, index = index_col, columns = index_col)\n",
    "\n",
    "# Plot confusion matrix using seaborn heatmap\n",
    "plt.figure(figsize=(10, 8))\n",
    "sns.heatmap(cm_df_rf, annot=True)\n",
    "plt.title('Confusion Matrix for Random Forest model')\n",
    "plt.xlabel('Predicted')\n",
    "plt.ylabel('Actual')\n",
    "plt.show()\n"
   ]
  },
  {
   "cell_type": "markdown",
   "metadata": {},
   "source": [
    "### K-Nearest Neighbors"
   ]
  },
  {
   "cell_type": "code",
   "execution_count": 11,
   "metadata": {},
   "outputs": [
    {
     "name": "stdout",
     "output_type": "stream",
     "text": [
      "KNN accuracy: 0.7407407407407407\n"
     ]
    },
    {
     "data": {
      "image/png": "[encoded data removed]",
      "text/plain": [
       "<Figure size 1000x800 with 2 Axes>"
      ]
     },
     "metadata": {},
     "output_type": "display_data"
    }
   ],
   "source": [
    "# Create knn model\n",
    "knn = KNeighborsClassifier(n_neighbors=5)\n",
    "\n",
    "# Fit the model to the training data\n",
    "knn.fit(X_train, y_train)\n",
    "\n",
    "# Predict on the test set\n",
    "y_pred_knn = knn.predict(X_test)\n",
    "\n",
    "# Evaluate the model\n",
    "accuracy_knn = accuracy_score(y_test, y_pred_knn)\n",
    "print(f'KNN accuracy: {accuracy_knn}')\n",
    "\n",
    "# Create confusion matrix\n",
    "cm_knn = confusion_matrix(y_test, y_pred_knn)\n",
    "cm_df_knn = pd.DataFrame(cm_knn, index = index_col, columns = index_col)\n",
    "\n",
    "# Plot confusion matrix using seaborn heatmap\n",
    "plt.figure(figsize=(10, 8))\n",
    "sns.heatmap(cm_df_knn, annot=True)\n",
    "plt.title('Confusion Matrix for KNN model')\n",
    "plt.xlabel('Predicted')\n",
    "plt.ylabel('Actual')\n",
    "plt.show()"
   ]
  },
  {
   "cell_type": "markdown",
   "metadata": {},
   "source": [
    "### Support Vector Machine"
   ]
  },
  {
   "cell_type": "code",
   "execution_count": 12,
   "metadata": {},
   "outputs": [
    {
     "name": "stdout",
     "output_type": "stream",
     "text": [
      "SVM accuracy: 0.7777777777777778\n"
     ]
    },
    {
     "data": {
      "image/png": "[encoded data removed]",
      "text/plain": [
       "<Figure size 1000x800 with 2 Axes>"
      ]
     },
     "metadata": {},
     "output_type": "display_data"
    }
   ],
   "source": [
    "# Create SVM model\n",
    "svm = SVC(kernel='linear', C=1.0, random_state=42)\n",
    "\n",
    "# Fit the model to the training data\n",
    "svm.fit(X_train, y_train)\n",
    "\n",
    "# Predict on the test set\n",
    "y_pred_svm = svm.predict(X_test)\n",
    "\n",
    "# Evaluate the model\n",
    "accuracy_svm = accuracy_score(y_test, y_pred_svm)\n",
    "print(f'SVM accuracy: {accuracy_svm}')\n",
    "\n",
    "# Create confusion matrix\n",
    "cm_svm = confusion_matrix(y_test, y_pred_svm)\n",
    "cm_df_svm = pd.DataFrame(cm_svm, index = index_col, columns = index_col)\n",
    "\n",
    "# Plot confusion matrix using seaborn heatmap\n",
    "plt.figure(figsize=(10, 8))\n",
    "sns.heatmap(cm_df_svm, annot=True)\n",
    "plt.title('Confusion Matrix for SVM model')\n",
    "plt.xlabel('Predicted')\n",
    "plt.ylabel('Actual')\n",
    "plt.show()"
   ]
  },
  {
   "cell_type": "code",
   "execution_count": null,
   "metadata": {},
   "outputs": [],
   "source": []
  }
 ],
 "metadata": {
  "colab": {
   "collapsed_sections": [],
   "name": "Miniproject_part1.ipynb",
   "provenance": []
  },
  "kernelspec": {
   "display_name": "Python 3 (ipykernel)",
   "language": "python",
   "name": "python3"
  },
  "language_info": {
   "codemirror_mode": {
    "name": "ipython",
    "version": 3
   },
   "file_extension": ".py",
   "mimetype": "text/x-python",
   "name": "python",
   "nbconvert_exporter": "python",
   "pygments_lexer": "ipython3",
   "version": "3.10.13"
  },
  "vscode": {
   "interpreter": {
    "hash": "0a54084e6b208ee8d1ce3989ffc20924477a5f55f5a43e22e699a6741623861e"
   }
  }
 },
 "nbformat": 4,
 "nbformat_minor": 4
}
